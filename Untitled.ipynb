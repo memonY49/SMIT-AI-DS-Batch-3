{
 "cells": [
  {
   "cell_type": "markdown",
   "id": "8c550010-b62d-476e-a69f-ebc345c0e6d9",
   "metadata": {},
   "source": [
    "<h1>List Slicing</h1>\n"
   ]
  },
  {
   "cell_type": "code",
   "execution_count": 44,
   "id": "3c9314bb-db23-4cec-ba77-87de2143b830",
   "metadata": {},
   "outputs": [],
   "source": [
    "myList = [1,3,4,4,6,7,8,9,4,10,10]"
   ]
  },
  {
   "cell_type": "code",
   "execution_count": 15,
   "id": "64fd56be-96d9-4a14-9b45-3f887170b64f",
   "metadata": {},
   "outputs": [
    {
     "data": {
      "text/plain": [
       "[1, 3, 4, 4, 6, 7, 8, 9, 4, 10]"
      ]
     },
     "execution_count": 15,
     "metadata": {},
     "output_type": "execute_result"
    }
   ],
   "source": [
    "myList[:-1]"
   ]
  },
  {
   "cell_type": "code",
   "execution_count": 29,
   "id": "410617a1-d342-457d-9fc7-f0904051d097",
   "metadata": {},
   "outputs": [
    {
     "data": {
      "text/plain": [
       "[10, 10, 4, 9, 8, 7, 6, 4, 4, 3, 1]"
      ]
     },
     "execution_count": 29,
     "metadata": {},
     "output_type": "execute_result"
    }
   ],
   "source": [
    "myList[::-1]"
   ]
  },
  {
   "cell_type": "markdown",
   "id": "842112bf-b8b5-4584-b2e0-c61ebbc1860a",
   "metadata": {},
   "source": [
    "# Multi dimensional list\n",
    "### List of Lists"
   ]
  },
  {
   "cell_type": "code",
   "execution_count": 58,
   "id": "3cbc82b4-758e-4049-a610-8117cb4bd8d9",
   "metadata": {},
   "outputs": [],
   "source": [
    "data  = [[\"abc1\",\"xyz\",\"abc1@gmail.com\",\"abc123\"],\n",
    "         [\"abc2\",\"xyz\",\"abc2@gmail.com\",\"abc123\"],\n",
    "         [\"abc3\",\"xyz\",\"abc3@gmail.com\",\"abc123\"],\n",
    "         [\"abc4\",\"xyz\",\"abc4@gmail.com\",\"abc123\"],\n",
    "         [\"abc5\",\"xyz\",\"abc5@gmail.com\",\"abc123\"],\n",
    "         [\"abc6\",\"xyz\",\"abc6@gmail.com\",\"abc123\"]]"
   ]
  },
  {
   "cell_type": "code",
   "execution_count": 39,
   "id": "559c3d72-5774-4d8f-995b-4623eed5ba62",
   "metadata": {},
   "outputs": [],
   "source": [
    "myList1 = [[1,2,3],\n",
    "          ['a','b','c'],\n",
    "          [2.1,4.5,6.0]]"
   ]
  },
  {
   "cell_type": "code",
   "execution_count": 41,
   "id": "54f129ae-4289-4a02-9847-4280c979d566",
   "metadata": {},
   "outputs": [
    {
     "data": {
      "text/plain": [
       "6.0"
      ]
     },
     "execution_count": 41,
     "metadata": {},
     "output_type": "execute_result"
    }
   ],
   "source": [
    "myList1[2][2]"
   ]
  },
  {
   "cell_type": "code",
   "execution_count": 57,
   "id": "5ba9fa9f-a773-4b89-8380-739107e87247",
   "metadata": {},
   "outputs": [
    {
     "name": "stdout",
     "output_type": "stream",
     "text": [
      "abc xyz abc1@gmail.com abc123 \n",
      "abc xyz abc2@gmail.com abc123 \n",
      "abc xyz abc3@gmail.com abc123 \n",
      "abc xyz abc4@gmail.com abc123 \n",
      "abc xyz abc5@gmail.com abc123 \n",
      "abc xyz abc6@gmail.com abc123 \n"
     ]
    }
   ],
   "source": [
    "for element in data:\n",
    "    for e in element:\n",
    "        print(e, end = ' ')\n",
    "    print()"
   ]
  },
  {
   "cell_type": "code",
   "execution_count": 83,
   "id": "ad217730-9f30-413b-a7a8-9e8c8fdbf9f6",
   "metadata": {},
   "outputs": [
    {
     "name": "stdin",
     "output_type": "stream",
     "text": [
      "Enter your Email:  dasdas\n",
      "Enter your Password:  asasd\n"
     ]
    }
   ],
   "source": [
    "useremail = input(\"Enter your Email: \")\n",
    "userpass = input(\"Enter your Password: \")\n"
   ]
  },
  {
   "cell_type": "code",
   "execution_count": 84,
   "id": "03150e75-c788-4c65-904a-829e33670152",
   "metadata": {},
   "outputs": [
    {
     "name": "stdout",
     "output_type": "stream",
     "text": [
      "user not found...!\n"
     ]
    }
   ],
   "source": [
    "for user in data:\n",
    "    if user[2] == useremail:\n",
    "        if  user[3] == userpass:\n",
    "            print(\"Name: \", user[0])\n",
    "            print(\"FName: \", user[1])\n",
    "            print(\"Email: \", user[2])\n",
    "        else:\n",
    "            print(\"Invailed Pass.....!\")\n",
    "        break\n",
    "else:\n",
    "    print(\"user not found...!\")"
   ]
  },
  {
   "cell_type": "code",
   "execution_count": null,
   "id": "58afafd9-5a85-49b6-8fd7-8e983b49dc27",
   "metadata": {},
   "outputs": [],
   "source": []
  },
  {
   "cell_type": "code",
   "execution_count": 85,
   "id": "e33e85c0-2145-4b3a-a43f-5db21d445c7b",
   "metadata": {},
   "outputs": [],
   "source": [
    "mylist = [[[1,2,3,4],\n",
    "           [5,6,7,8],\n",
    "           [9,1,2,3]],\n",
    "          [[4,5,6,7],\n",
    "           [8,9,1,2],\n",
    "           [3,4,5,6]]]"
   ]
  },
  {
   "cell_type": "code",
   "execution_count": 86,
   "id": "61811ac0-d56e-4a08-bbcf-2ee4edfc4977",
   "metadata": {},
   "outputs": [
    {
     "data": {
      "text/plain": [
       "5"
      ]
     },
     "execution_count": 86,
     "metadata": {},
     "output_type": "execute_result"
    }
   ],
   "source": [
    "mylist[1][0][1]"
   ]
  },
  {
   "cell_type": "code",
   "execution_count": 87,
   "id": "4770c830-76eb-4609-935a-7b4a9ebabeb6",
   "metadata": {},
   "outputs": [],
   "source": [
    "cardata = [[[\"Alto\",'VXR','2020',2300000],\n",
    "            [\"Alto\",'VXR','2020',2300000],\n",
    "            [\"Alto\",'VXR','2020',2300000]],\n",
    "           [[\"Corola\",\"GLI\",'2010',1200000],\n",
    "            [\"Corola1\",\"GLI\",'2010',1200000],\n",
    "            [\"Corola\",\"GLI\",'2010',1200000]]]"
   ]
  },
  {
   "cell_type": "code",
   "execution_count": 90,
   "id": "cc54adc1-2a1c-4c5f-952e-5a1a91df7c02",
   "metadata": {},
   "outputs": [
    {
     "name": "stdout",
     "output_type": "stream",
     "text": [
      "1.Toyota\n",
      "2.Suzuki\n"
     ]
    }
   ],
   "source": [
    "print(\"1.Toyota\\n2.Suzuki\")"
   ]
  },
  {
   "cell_type": "code",
   "execution_count": null,
   "id": "77cb0cca-222c-475f-b976-a66a3fbcdf19",
   "metadata": {},
   "outputs": [],
   "source": []
  }
 ],
 "metadata": {
  "kernelspec": {
   "display_name": "Python 3 (ipykernel)",
   "language": "python",
   "name": "python3"
  },
  "language_info": {
   "codemirror_mode": {
    "name": "ipython",
    "version": 3
   },
   "file_extension": ".py",
   "mimetype": "text/x-python",
   "name": "python",
   "nbconvert_exporter": "python",
   "pygments_lexer": "ipython3",
   "version": "3.11.3"
  }
 },
 "nbformat": 4,
 "nbformat_minor": 5
}
