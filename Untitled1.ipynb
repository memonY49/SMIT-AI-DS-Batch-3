{
 "cells": [
  {
   "cell_type": "markdown",
   "id": "990fb8ef-0bec-4958-b8a0-07f31e97527b",
   "metadata": {},
   "source": [
    "# Dictionary (Maps)\n",
    "\n",
    "## Syntax:\n",
    "- namedict = {\"key\":\"value\",\"key2\":\"value\",\"key3\":\"\",\"key4\":\"\"}"
   ]
  },
  {
   "cell_type": "code",
   "execution_count": 28,
   "id": "f67001da-9056-4d42-8650-7f1df1e1f3aa",
   "metadata": {},
   "outputs": [],
   "source": [
    "mydict = {\"Name\":\"Yasir\",\n",
    "          \"FName\":\"Nawaz\",\n",
    "          \"Cnic\":4423884899374,\n",
    "          \"Phone\":\"03000000000\",\n",
    "         \"Email\":\"abc@gmail.com\",\n",
    "         \"Pass\": \"abc123\"}"
   ]
  },
  {
   "cell_type": "code",
   "execution_count": 25,
   "id": "8865a572-11f4-4c43-a9ea-8f460fd9e959",
   "metadata": {},
   "outputs": [
    {
     "name": "stdout",
     "output_type": "stream",
     "text": [
      "4423884899374\n"
     ]
    }
   ],
   "source": [
    "print(mydict[\"Cnic\"])"
   ]
  },
  {
   "cell_type": "code",
   "execution_count": 7,
   "id": "b13c0fdd-8667-41bf-85af-5b4bd9ecbf9f",
   "metadata": {},
   "outputs": [
    {
     "data": {
      "text/plain": [
       "4"
      ]
     },
     "execution_count": 7,
     "metadata": {},
     "output_type": "execute_result"
    }
   ],
   "source": [
    "len(mydict)"
   ]
  },
  {
   "cell_type": "code",
   "execution_count": 10,
   "id": "f071ee02-3091-4f00-bbcb-53de7d392b69",
   "metadata": {},
   "outputs": [
    {
     "name": "stdout",
     "output_type": "stream",
     "text": [
      "Name\n"
     ]
    }
   ],
   "source": [
    "print(list(mydict.keys()))"
   ]
  },
  {
   "cell_type": "code",
   "execution_count": 11,
   "id": "756e5def-66a7-427a-8e7f-6012ce11e864",
   "metadata": {},
   "outputs": [
    {
     "name": "stdout",
     "output_type": "stream",
     "text": [
      "dict_values(['Yasir', 'Nawaz', 4423884899374, 9237348376482])\n"
     ]
    }
   ],
   "source": [
    "print(mydict.values())"
   ]
  },
  {
   "cell_type": "code",
   "execution_count": 13,
   "id": "a6d52800-98aa-4c4d-be8d-8216654adbd8",
   "metadata": {},
   "outputs": [
    {
     "name": "stdout",
     "output_type": "stream",
     "text": [
      "[('Name', 'Yasir'), ('FName', 'Nawaz'), (1, 4423884899374), ('Phone', 9237348376482)]\n"
     ]
    }
   ],
   "source": [
    "print(list(mydict.items()))"
   ]
  },
  {
   "cell_type": "code",
   "execution_count": 22,
   "id": "950f5d35-96dd-4918-b8e2-9d3e4305d070",
   "metadata": {},
   "outputs": [
    {
     "name": "stdout",
     "output_type": "stream",
     "text": [
      "Name Yasir\n",
      "FName Nawaz\n",
      "1 4423884899374\n",
      "Phone 9237348376482\n"
     ]
    }
   ],
   "source": [
    "for k, v in mydict.items():\n",
    "    print(k,v)"
   ]
  },
  {
   "cell_type": "code",
   "execution_count": 29,
   "id": "38450f93-c165-40c0-834b-a1e2f764a47e",
   "metadata": {},
   "outputs": [
    {
     "data": {
      "text/plain": [
       "{'Name': 'Yasir',\n",
       " 'FName': 'Nawaz',\n",
       " 'Cnic': 4423884899374,\n",
       " 'Phone': '03000000000',\n",
       " 'Email': 'abc@gmail.com',\n",
       " 'Pass': 'abc123'}"
      ]
     },
     "execution_count": 29,
     "metadata": {},
     "output_type": "execute_result"
    }
   ],
   "source": [
    "mydict"
   ]
  },
  {
   "cell_type": "code",
   "execution_count": 34,
   "id": "e9c9f165-1ddd-4a15-9c5b-73ea166f5ec3",
   "metadata": {},
   "outputs": [
    {
     "name": "stdin",
     "output_type": "stream",
     "text": [
      "Enter you email:  abc@gmail.com\n",
      "Enter you Pass:  abc123\n"
     ]
    }
   ],
   "source": [
    "useremail = input(\"Enter you email: \")\n",
    "userpass = input(\"Enter you Pass: \")"
   ]
  },
  {
   "cell_type": "code",
   "execution_count": 40,
   "id": "e1d60a0e-1628-4c35-b4d9-cbc57afa7666",
   "metadata": {},
   "outputs": [
    {
     "name": "stdout",
     "output_type": "stream",
     "text": [
      "Name: Yasir\n",
      "FName: Nawaz\n",
      "Cnic: 4423884899374\n",
      "Phone: 03000000000\n",
      "Email: abc@gmail.com\n"
     ]
    }
   ],
   "source": [
    "if mydict['Email'] == useremail and mydict['Pass'] == userpass:\n",
    "    for k,v in list(mydict.items())[:-1]:\n",
    "        print(f\"{k}: {v}\")"
   ]
  },
  {
   "cell_type": "code",
   "execution_count": 42,
   "id": "2fc016db-484b-4d37-9b41-61baf107bc54",
   "metadata": {},
   "outputs": [],
   "source": [
    "data = {\"st-1\":{\"Name\":\"Yasir\",\n",
    "                \"FName\":\"Nawaz\",\n",
    "                \"Cnic\":4423884899374,\n",
    "                \"Phone\":\"03000000000\",\n",
    "                \"Email\":\"abc@gmail.com\",\n",
    "                \"Pass\": \"abc123\"},\n",
    "        \"st-2\":{\"Name\":\"Yasir\",\n",
    "                \"FName\":\"Nawaz\",\n",
    "                \"Cnic\":4423884899374,\n",
    "                \"Phone\":\"03000000000\",\n",
    "                \"Email\":\"abc@gmail.com\",\n",
    "                \"Pass\": \"abc123\"},\n",
    "        \"st-3\":{\"Name\":\"Yasir\",\n",
    "                \"FName\":\"Nawaz\",\n",
    "                \"Cnic\":4423884899374,\n",
    "                \"Phone\":\"03000000000\",\n",
    "                \"Email\":\"abc@gmail.com\",\n",
    "                \"Pass\": \"abc123\"},\n",
    "        \"st-4\":{\"Name\":\"Yasir\",\n",
    "                \"FName\":\"Nawaz\",\n",
    "                \"Cnic\":4423884899374,\n",
    "                \"Phone\":\"03000000000\",\n",
    "                \"Email\":\"abc@gmail.com\",\n",
    "                \"Pass\": \"abc123\"}}"
   ]
  },
  {
   "cell_type": "code",
   "execution_count": 48,
   "id": "cc10f23d-b535-482b-862f-f98a11f876eb",
   "metadata": {},
   "outputs": [
    {
     "name": "stdin",
     "output_type": "stream",
     "text": [
      " st-2\n"
     ]
    },
    {
     "data": {
      "text/plain": [
       "{'Name': 'Yasir',\n",
       " 'FName': 'Nawaz',\n",
       " 'Cnic': 4423884899374,\n",
       " 'Phone': '03000000000',\n",
       " 'Email': 'abc@gmail.com',\n",
       " 'Pass': 'abc123'}"
      ]
     },
     "execution_count": 48,
     "metadata": {},
     "output_type": "execute_result"
    }
   ],
   "source": [
    "data[input()]"
   ]
  },
  {
   "cell_type": "code",
   "execution_count": 46,
   "id": "663256b1-4766-45f8-9111-bcb1abe3030e",
   "metadata": {},
   "outputs": [
    {
     "ename": "SyntaxError",
     "evalue": "invalid syntax (2486026422.py, line 1)",
     "output_type": "error",
     "traceback": [
      "\u001b[1;36m  Cell \u001b[1;32mIn[46], line 1\u001b[1;36m\u001b[0m\n\u001b[1;33m    Student Id: sdt-1\u001b[0m\n\u001b[1;37m            ^\u001b[0m\n\u001b[1;31mSyntaxError\u001b[0m\u001b[1;31m:\u001b[0m invalid syntax\n"
     ]
    }
   ],
   "source": [
    "Student Id: sdt-1\n",
    "Name: XYZ\n",
    "FName: ABC\n",
    "Email: abc@gmail.com"
   ]
  },
  {
   "cell_type": "code",
   "execution_count": 55,
   "id": "23636d78-b59f-4bd9-9950-f780e76d44d2",
   "metadata": {},
   "outputs": [
    {
     "name": "stdin",
     "output_type": "stream",
     "text": [
      " jdsbjhjhmbvsjhbvsb\n"
     ]
    },
    {
     "name": "stdout",
     "output_type": "stream",
     "text": [
      "Student id not fund...!\n"
     ]
    }
   ],
   "source": [
    "studentid = input().lower()\n",
    "if studentid in data.keys():\n",
    "    print(f\"Student ID: {studentid}\")\n",
    "    for k, v in data[studentid].items():\n",
    "        print(f\"{k} : {v}\")\n",
    "else:\n",
    "    print(\"Student id not fund...!\")"
   ]
  },
  {
   "cell_type": "code",
   "execution_count": 54,
   "id": "9d184e4a-8c88-4532-b27e-41dfe1cd9944",
   "metadata": {},
   "outputs": [
    {
     "data": {
      "text/plain": [
       "dict_keys(['st-1', 'st-2', 'st-3', 'st-4'])"
      ]
     },
     "execution_count": 54,
     "metadata": {},
     "output_type": "execute_result"
    }
   ],
   "source": [
    "data.keys()"
   ]
  },
  {
   "cell_type": "code",
   "execution_count": null,
   "id": "6688f09c-228c-4f9c-9fd6-bca029d20646",
   "metadata": {},
   "outputs": [],
   "source": []
  }
 ],
 "metadata": {
  "kernelspec": {
   "display_name": "Python 3 (ipykernel)",
   "language": "python",
   "name": "python3"
  },
  "language_info": {
   "codemirror_mode": {
    "name": "ipython",
    "version": 3
   },
   "file_extension": ".py",
   "mimetype": "text/x-python",
   "name": "python",
   "nbconvert_exporter": "python",
   "pygments_lexer": "ipython3",
   "version": "3.11.3"
  }
 },
 "nbformat": 4,
 "nbformat_minor": 5
}
