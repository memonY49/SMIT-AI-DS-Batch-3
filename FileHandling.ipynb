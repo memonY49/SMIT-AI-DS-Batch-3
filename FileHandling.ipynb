{
 "cells": [
  {
   "cell_type": "markdown",
   "id": "d1532ec3-e9fc-4b6a-bebe-795b866f700e",
   "metadata": {},
   "source": [
    "# File Handling\n",
    "## Read File"
   ]
  },
  {
   "cell_type": "code",
   "execution_count": 19,
   "id": "74e042d7-5999-4e9d-9da9-1949dde9efd1",
   "metadata": {},
   "outputs": [
    {
     "name": "stdout",
     "output_type": "stream",
     "text": [
      "1.bjhvashasgasvasvgasvgvgbnvb\n",
      "2.casdnskvh mabvjhbavkhjbava\n",
      "3.vasvasvfvadfnv hj vjvh d\n",
      "4.avad vjha vgh vaghbjavhbavhsdh\n",
      "5.dsbaskhbasjhgasjhgafhgafhgsadjhg\n",
      "6.kbashdbfjhasdvashfgsjhd\n",
      "7.hbjhasvfgashdfsvajsdghasdgsfsdfbh\n"
     ]
    }
   ],
   "source": [
    "file = open('data.txt', mode='r')\n",
    "\n",
    "# print(file.read())\n",
    "# print(file.readlines())\n",
    "for line in file.readlines():\n",
    "    print(line.replace('\\n',''))\n",
    "\n",
    "file.close()"
   ]
  },
  {
   "cell_type": "markdown",
   "id": "17dacbbd-89aa-4d7c-bd1a-806dbea34e6c",
   "metadata": {},
   "source": [
    "## Writting a File"
   ]
  },
  {
   "cell_type": "code",
   "execution_count": 47,
   "id": "cc2306e4-54e2-4323-a3b6-ae3247216093",
   "metadata": {},
   "outputs": [
    {
     "name": "stdout",
     "output_type": "stream",
     "text": [
      "abc@gmail.com\n",
      "abc@gmail.com\n",
      "abc@gmail.com\n",
      "abc@gmail.com\n",
      "abc@gmail.com\n",
      "abc@gmail.com\n",
      "abc@gmail.com\n",
      "abc@gmail.com\n"
     ]
    }
   ],
   "source": [
    "myfile = open('data2.txt', mode = 'a+')\n",
    "\n",
    "\n",
    "myfile.seek(0)\n",
    "# myfile.write(\"Yasir6,Nawaz,030000040000,abc@gmail.com,abc123\\n\")\n",
    "for user in myfile.readlines():\n",
    "    print(user.strip().split(',')[3])\n",
    "\n",
    "\n",
    "\n",
    "myfile.close()"
   ]
  },
  {
   "cell_type": "code",
   "execution_count": 52,
   "id": "0fa041c9-9923-4db2-8418-e2896df3a0d4",
   "metadata": {},
   "outputs": [
    {
     "name": "stdin",
     "output_type": "stream",
     "text": [
      "Enter your Email:  abc3@gmail.com\n",
      "Enter your Pass:  abc123\n"
     ]
    },
    {
     "name": "stdout",
     "output_type": "stream",
     "text": [
      "['Yasir2', 'Nawaz', '030000040000', 'abc3@gmail.com', 'abc123']\n"
     ]
    }
   ],
   "source": [
    "myfile = open('data2.txt', mode = 'r')\n",
    "\n",
    "useremail = input('Enter your Email: ')\n",
    "userpass = input('Enter your Pass: ')\n",
    "\n",
    "for user in myfile.readlines():\n",
    "    data = user.strip().split(',')\n",
    "    if useremail == data[3] and userpass == data[4]:\n",
    "        print(data)\n",
    "\n",
    "\n",
    "myfile.close()"
   ]
  },
  {
   "cell_type": "code",
   "execution_count": null,
   "id": "8cdce8c1-f340-44ae-b609-aab6cfb8c5a7",
   "metadata": {},
   "outputs": [],
   "source": []
  },
  {
   "cell_type": "code",
   "execution_count": 30,
   "id": "66966e8d-cfdf-46a1-b0b3-1f4d235c3380",
   "metadata": {},
   "outputs": [
    {
     "name": "stdin",
     "output_type": "stream",
     "text": [
      "Enter Your email to access:  abc2@gmail.com\n",
      "1.Change Name\n",
      "2.Change Fname\n",
      "3.Change Email\n",
      "4.Change Pass 1\n",
      "Enter New Name Ahmed\n"
     ]
    }
   ],
   "source": [
    "with open('data2.txt','r+') as myfile:\n",
    "    data = myfile.readlines()\n",
    "    useremail = input(\"Enter Your email to access: \")\n",
    "    for index, user in enumerate(data):\n",
    "        tuser = user.strip().split(',')\n",
    "        if tuser[2] == useremail:\n",
    "            choice = int(input(\"1.Change Name\\n2.Change Fname\\n3.Change Email\\n4.Change Pass\"))\n",
    "            if choice == 1:\n",
    "                tuser[0] = input(\"Enter New Name\")\n",
    "            elif choice == 2:\n",
    "                tuser[1] = input(\"Enter New FName\")\n",
    "            elif choice == 3:\n",
    "                tuser[2] = input(\"Enter New Email\")\n",
    "            elif choice == 4:\n",
    "                tuser[3] = input(\"Enter New Pass\")\n",
    "            tuser = f\"{tuser[0]},{tuser[1]},{tuser[2]},{tuser[3]}\\n\"\n",
    "            data[index] = tuser\n",
    "    myfile.seek(0)\n",
    "    myfile.writelines(data)\n",
    "        "
   ]
  },
  {
   "cell_type": "code",
   "execution_count": null,
   "id": "3cedac09-5da4-4ac6-85ca-a08712f42b00",
   "metadata": {},
   "outputs": [],
   "source": []
  },
  {
   "cell_type": "code",
   "execution_count": 38,
   "id": "5a28ac3e-2497-4d05-8742-4d89f9101f2b",
   "metadata": {},
   "outputs": [
    {
     "name": "stdout",
     "output_type": "stream",
     "text": [
      "My Data.txt file contains: 806 words\n"
     ]
    }
   ],
   "source": [
    "with open('data.txt','r') as newfile:\n",
    "    data = newfile.read()\n",
    "    print(f'My Data.txt file contains: {len(data.split(\" \"))} words')"
   ]
  },
  {
   "cell_type": "code",
   "execution_count": 46,
   "id": "30edaaaf-05db-4c95-802c-c09162926de6",
   "metadata": {},
   "outputs": [
    {
     "name": "stdout",
     "output_type": "stream",
     "text": [
      "total v: 1964\n"
     ]
    }
   ],
   "source": [
    "vo = ['a','e','i','o','u']\n",
    "total_vo = 0\n",
    "with open('data.txt','r') as newfile:\n",
    "    data = newfile.read()\n",
    "    for e in vo:\n",
    "        total_vo += data.count(e)\n",
    "    print('total v: {}'.format(total_vo))"
   ]
  },
  {
   "cell_type": "code",
   "execution_count": 58,
   "id": "26160b78-8bc7-469c-ac81-fc2aad0f8215",
   "metadata": {},
   "outputs": [
    {
     "name": "stdout",
     "output_type": "stream",
     "text": [
      "4794\n"
     ]
    }
   ],
   "source": [
    "with open('data.txt','r') as newfile:\n",
    "    data = newfile.read()\n",
    "    data = data.replace(' ','')\n",
    "    data = data.replace('\\n','')\n",
    "    print(len(data))\n",
    "    # print(data)"
   ]
  },
  {
   "cell_type": "code",
   "execution_count": null,
   "id": "8096cc4f-43f1-4a1f-8cd2-e51324481732",
   "metadata": {},
   "outputs": [],
   "source": []
  }
 ],
 "metadata": {
  "kernelspec": {
   "display_name": "Python 3 (ipykernel)",
   "language": "python",
   "name": "python3"
  },
  "language_info": {
   "codemirror_mode": {
    "name": "ipython",
    "version": 3
   },
   "file_extension": ".py",
   "mimetype": "text/x-python",
   "name": "python",
   "nbconvert_exporter": "python",
   "pygments_lexer": "ipython3",
   "version": "3.11.3"
  }
 },
 "nbformat": 4,
 "nbformat_minor": 5
}
