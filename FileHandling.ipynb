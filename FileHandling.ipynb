{
 "cells": [
  {
   "cell_type": "markdown",
   "id": "d1532ec3-e9fc-4b6a-bebe-795b866f700e",
   "metadata": {},
   "source": [
    "# File Handling\n",
    "## Read File"
   ]
  },
  {
   "cell_type": "code",
   "execution_count": 19,
   "id": "74e042d7-5999-4e9d-9da9-1949dde9efd1",
   "metadata": {},
   "outputs": [
    {
     "name": "stdout",
     "output_type": "stream",
     "text": [
      "1.bjhvashasgasvasvgasvgvgbnvb\n",
      "2.casdnskvh mabvjhbavkhjbava\n",
      "3.vasvasvfvadfnv hj vjvh d\n",
      "4.avad vjha vgh vaghbjavhbavhsdh\n",
      "5.dsbaskhbasjhgasjhgafhgafhgsadjhg\n",
      "6.kbashdbfjhasdvashfgsjhd\n",
      "7.hbjhasvfgashdfsvajsdghasdgsfsdfbh\n"
     ]
    }
   ],
   "source": [
    "file = open('data.txt', mode='r')\n",
    "\n",
    "# print(file.read())\n",
    "# print(file.readlines())\n",
    "for line in file.readlines():\n",
    "    print(line.replace('\\n',''))\n",
    "\n",
    "file.close()"
   ]
  },
  {
   "cell_type": "markdown",
   "id": "17dacbbd-89aa-4d7c-bd1a-806dbea34e6c",
   "metadata": {},
   "source": [
    "## Writting a File"
   ]
  },
  {
   "cell_type": "code",
   "execution_count": 47,
   "id": "cc2306e4-54e2-4323-a3b6-ae3247216093",
   "metadata": {},
   "outputs": [
    {
     "name": "stdout",
     "output_type": "stream",
     "text": [
      "abc@gmail.com\n",
      "abc@gmail.com\n",
      "abc@gmail.com\n",
      "abc@gmail.com\n",
      "abc@gmail.com\n",
      "abc@gmail.com\n",
      "abc@gmail.com\n",
      "abc@gmail.com\n"
     ]
    }
   ],
   "source": [
    "myfile = open('data2.txt', mode = 'a+')\n",
    "\n",
    "\n",
    "myfile.seek(0)\n",
    "# myfile.write(\"Yasir6,Nawaz,030000040000,abc@gmail.com,abc123\\n\")\n",
    "for user in myfile.readlines():\n",
    "    print(user.strip().split(',')[3])\n",
    "\n",
    "\n",
    "\n",
    "myfile.close()"
   ]
  },
  {
   "cell_type": "code",
   "execution_count": 52,
   "id": "0fa041c9-9923-4db2-8418-e2896df3a0d4",
   "metadata": {},
   "outputs": [
    {
     "name": "stdin",
     "output_type": "stream",
     "text": [
      "Enter your Email:  abc3@gmail.com\n",
      "Enter your Pass:  abc123\n"
     ]
    },
    {
     "name": "stdout",
     "output_type": "stream",
     "text": [
      "['Yasir2', 'Nawaz', '030000040000', 'abc3@gmail.com', 'abc123']\n"
     ]
    }
   ],
   "source": [
    "myfile = open('data2.txt', mode = 'r')\n",
    "\n",
    "useremail = input('Enter your Email: ')\n",
    "userpass = input('Enter your Pass: ')\n",
    "\n",
    "for user in myfile.readlines():\n",
    "    data = user.strip().split(',')\n",
    "    if useremail == data[3] and userpass == data[4]:\n",
    "        print(data)\n",
    "\n",
    "\n",
    "myfile.close()"
   ]
  },
  {
   "cell_type": "code",
   "execution_count": null,
   "id": "8cdce8c1-f340-44ae-b609-aab6cfb8c5a7",
   "metadata": {},
   "outputs": [],
   "source": []
  }
 ],
 "metadata": {
  "kernelspec": {
   "display_name": "Python 3 (ipykernel)",
   "language": "python",
   "name": "python3"
  },
  "language_info": {
   "codemirror_mode": {
    "name": "ipython",
    "version": 3
   },
   "file_extension": ".py",
   "mimetype": "text/x-python",
   "name": "python",
   "nbconvert_exporter": "python",
   "pygments_lexer": "ipython3",
   "version": "3.11.3"
  }
 },
 "nbformat": 4,
 "nbformat_minor": 5
}
