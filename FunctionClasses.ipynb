{
 "cells": [
  {
   "cell_type": "code",
   "execution_count": 31,
   "id": "ad732433-cbaf-4427-80d5-d4c03a1ffdf3",
   "metadata": {},
   "outputs": [],
   "source": [
    "car_data = [[[\"Corola\",\"2008\",\"GLI\",1200000],\n",
    "             [\"Prado\",\"2000\",\"V6\",400000]],\n",
    "            [[\"Alto\",\"2019\",\"VX\",1500000],\n",
    "             [\"Cultus\",\"2020\",'VXL',400000]]]"
   ]
  },
  {
   "cell_type": "code",
   "execution_count": 32,
   "id": "d65f1d52-f7e8-4a36-a991-4b4577698c09",
   "metadata": {},
   "outputs": [
    {
     "name": "stdout",
     "output_type": "stream",
     "text": [
      "1.Toyota\n",
      "2.Suzuki\n"
     ]
    }
   ],
   "source": []
  },
  {
   "cell_type": "code",
   "execution_count": 71,
   "id": "f554e9ed-8c91-43e6-8a44-01b2560f57e6",
   "metadata": {},
   "outputs": [
    {
     "name": "stdout",
     "output_type": "stream",
     "text": [
      "**********\n",
      "1.Toyota\n",
      "2.Suzuki\n"
     ]
    },
    {
     "name": "stdin",
     "output_type": "stream",
     "text": [
      "Please Enter your company:  1\n"
     ]
    },
    {
     "name": "stdout",
     "output_type": "stream",
     "text": [
      "1 Corola\n",
      "2 Prado\n"
     ]
    },
    {
     "name": "stdin",
     "output_type": "stream",
     "text": [
      "Please select your car:  1\n"
     ]
    },
    {
     "name": "stdout",
     "output_type": "stream",
     "text": [
      "Name: Corola\n",
      "Year: 2008\n",
      "Varient: GLI\n",
      "Price: 1200000\n"
     ]
    },
    {
     "name": "stdin",
     "output_type": "stream",
     "text": [
      "Do you want to continue y/n:  n\n"
     ]
    }
   ],
   "source": [
    "while True:\n",
    "    print(\"*\"*10)\n",
    "    print(\"1.Toyota\\n2.Suzuki\")\n",
    "    try:\n",
    "        company = int(input(\"Please Enter your company: \"))\n",
    "        if company <= len(car_data) and company >0:\n",
    "            for index, car in enumerate(car_data[company-1]):\n",
    "                print(index+1,car[0])\n",
    "            car_s = int(input(\"Please select your car: \"))\n",
    "            if car_s <= len(car_data[company-1]) and company > 0:\n",
    "                print(f\"Name: {car_data[company-1][car_s -1][0]}\")\n",
    "                print(f\"Year: {car_data[company-1][car_s -1][1]}\")\n",
    "                print(f\"Varient: {car_data[company-1][car_s -1][2]}\")\n",
    "                print(f\"Price: {car_data[company-1][car_s -1][3]}\")\n",
    "            else:\n",
    "                print(\"Invailed Selection!!\")\n",
    "            conn = input(\"Do you want to continue y/n: \").lower()\n",
    "            if conn == 'n':\n",
    "                break\n",
    "        else:\n",
    "            print(\"Invailed Selection!!\")\n",
    "    except Exception as e:\n",
    "        print(e)"
   ]
  },
  {
   "cell_type": "code",
   "execution_count": null,
   "id": "d453374a-9cde-465f-80bb-d3b7bf7ea9c8",
   "metadata": {},
   "outputs": [],
   "source": []
  },
  {
   "cell_type": "markdown",
   "id": "b61961db-15dc-467d-9a03-cdfe854224b3",
   "metadata": {},
   "source": [
    "# Error Handling (Exception Handling)\n",
    "## There are three clauses of exception handling.\n",
    "1. Try\n",
    "2. Except (Catch)\n",
    "3. Default"
   ]
  },
  {
   "cell_type": "code",
   "execution_count": 72,
   "id": "14aabfa6-3607-4920-950b-e33dfa3c64a3",
   "metadata": {},
   "outputs": [
    {
     "name": "stdout",
     "output_type": "stream",
     "text": [
      "Something went wrong\n"
     ]
    }
   ],
   "source": [
    "try:\n",
    "    raise(FileNotFoundError)\n",
    "except:\n",
    "    print(\"Something went wrong\")"
   ]
  },
  {
   "cell_type": "code",
   "execution_count": null,
   "id": "475e32da-43cd-4dce-9ff9-266f252153da",
   "metadata": {},
   "outputs": [],
   "source": []
  },
  {
   "cell_type": "markdown",
   "id": "bad25009-f24f-4e7c-ae5c-e22bec54bddc",
   "metadata": {},
   "source": [
    "# Functions\n",
    "## It is a block of code seperated from the atmosphare to perform specific task.\n",
    "### Types of a function:\n",
    " |Pre Define| User Define|\n",
    " |Already created | User created|\n",
    "\n",
    "- To create a function:\n",
    "    - Syntax:\n",
    "        - use def keyword\n",
    "        - def nameoffunction ():\n",
    "            - body of function"
   ]
  },
  {
   "cell_type": "code",
   "execution_count": 81,
   "id": "6488e89f-94e3-4df1-9ad3-58c4bd7c634f",
   "metadata": {},
   "outputs": [
    {
     "name": "stdout",
     "output_type": "stream",
     "text": [
      "1.add\n",
      "2.sub\n",
      "3.mul\n",
      "4.div\n"
     ]
    },
    {
     "name": "stdin",
     "output_type": "stream",
     "text": [
      "Enter your selection:  1\n",
      "Enter value 1:  1\n",
      "Enter value 1:  1\n"
     ]
    },
    {
     "name": "stdout",
     "output_type": "stream",
     "text": [
      "2\n"
     ]
    }
   ],
   "source": [
    "def add():\n",
    "    a = int(input(\"Enter value 1: \"))\n",
    "    b = int(input(\"Enter value 1: \"))\n",
    "    print(a+b)\n",
    "def sub():\n",
    "    a = int(input(\"Enter value 1: \"))\n",
    "    b = int(input(\"Enter value 1: \"))\n",
    "    print(a-b)\n",
    "def mul():\n",
    "    a = int(input(\"Enter value 1: \"))\n",
    "    b = int(input(\"Enter value 1: \"))\n",
    "    print(a*b)\n",
    "def div():\n",
    "    a = int(input(\"Enter value 1: \"))\n",
    "    b = int(input(\"Enter value 1: \"))\n",
    "    print(a/b)\n",
    "\n",
    "print(\"1.add\\n2.sub\\n3.mul\\n4.div\")\n",
    "\n",
    "user_s = int(input(\"Enter your selection: \"))\n",
    "if user_s == 1:\n",
    "    add()\n",
    "elif user_s == 2:\n",
    "    sub()\n",
    "elif user_s == 2:\n",
    "    mul()\n",
    "elif user_s == 2:\n",
    "    div()\n",
    "\n",
    "\n",
    "    "
   ]
  },
  {
   "cell_type": "code",
   "execution_count": 75,
   "id": "55a75d74-df65-44e2-81d7-7a384b9ad6da",
   "metadata": {},
   "outputs": [
    {
     "name": "stdout",
     "output_type": "stream",
     "text": [
      "10\n"
     ]
    }
   ],
   "source": [
    "add()"
   ]
  },
  {
   "cell_type": "code",
   "execution_count": 76,
   "id": "510edf43-e684-4e2c-9929-054422864e3b",
   "metadata": {},
   "outputs": [
    {
     "name": "stdout",
     "output_type": "stream",
     "text": [
      "10\n"
     ]
    }
   ],
   "source": [
    "add()"
   ]
  },
  {
   "cell_type": "code",
   "execution_count": 77,
   "id": "5aac054c-aa1f-4007-b928-00697aa30a3e",
   "metadata": {},
   "outputs": [
    {
     "name": "stdout",
     "output_type": "stream",
     "text": [
      "10\n"
     ]
    }
   ],
   "source": [
    "add()"
   ]
  },
  {
   "cell_type": "code",
   "execution_count": null,
   "id": "8318864a-ce3c-46fd-aa44-99cd501c3e4c",
   "metadata": {},
   "outputs": [],
   "source": []
  }
 ],
 "metadata": {
  "kernelspec": {
   "display_name": "Python 3 (ipykernel)",
   "language": "python",
   "name": "python3"
  },
  "language_info": {
   "codemirror_mode": {
    "name": "ipython",
    "version": 3
   },
   "file_extension": ".py",
   "mimetype": "text/x-python",
   "name": "python",
   "nbconvert_exporter": "python",
   "pygments_lexer": "ipython3",
   "version": "3.11.3"
  }
 },
 "nbformat": 4,
 "nbformat_minor": 5
}
